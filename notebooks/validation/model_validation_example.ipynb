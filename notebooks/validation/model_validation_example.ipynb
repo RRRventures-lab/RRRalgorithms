{
  "cells": [
    {
      "cell_type": "markdown",
      "metadata": {},
      "source": [
        "# Model Validation Framework Demo\n",
        "\n",
        "This notebook demonstrates the walk-forward validation and trading metrics framework.\n",
        "\n",
        "## Contents\n",
        "1. Setup and Data Loading\n",
        "2. Walk-Forward Validation\n",
        "3. Performance Metrics Calculation\n",
        "4. Visualization and Analysis\n",
        "5. Overfitting Detection"
      ]
    },
    {
      "cell_type": "code",
      "execution_count": null,
      "metadata": {},
      "outputs": [],
      "source": [
        "# Imports\n",
        "import sys\n",
        "import os\n",
        "import numpy as np\n",
        "import pandas as pd\n",
        "import matplotlib.pyplot as plt\n",
        "import seaborn as sns\n",
        "from datetime import datetime, timedelta\n",
        "\n",
        "# Add project paths\n",
        "sys.path.insert(0, '../../worktrees/backtesting/src')\n",
        "sys.path.insert(0, '../../worktrees/neural-network/src')\n",
        "\n",
        "from validation.walk_forward import WalkForwardValidator, WalkForwardConfig\n",
        "from metrics.trading_metrics import TradingMetricsCalculator, PerformanceMetrics\n",
        "\n",
        "# Configure matplotlib\n",
        "plt.style.use('seaborn-v0_8-darkgrid')\n",
        "sns.set_palette('husl')\n",
        "%matplotlib inline\n",
        "\n",
        "print('✅ Imports successful')"
      ]
    },
    {
      "cell_type": "markdown",
      "metadata": {},
      "source": [
        "## 1. Setup and Data Loading\n",
        "\n",
        "Load historical price data and prepare features for model training."
      ]
    },
    {
      "cell_type": "code",
      "execution_count": null,
      "metadata": {},
      "outputs": [],
      "source": [
        "# Generate sample data (replace with real data loading)\n",
        "np.random.seed(42)\n",
        "\n",
        "# Create 1 year of daily data\n",
        "dates = pd.date_range('2023-01-01', '2024-01-01', freq='D')\n",
        "n_samples = len(dates)\n",
        "\n",
        "# Simulate price data with trend and noise\n",
        "trend = np.linspace(50000, 60000, n_samples)\n",
        "noise = np.random.randn(n_samples) * 2000\n",
        "prices = trend + noise\n",
        "\n",
        "# Calculate returns\n",
        "returns = np.diff(prices) / prices[:-1]\n",
        "returns = np.insert(returns, 0, 0)\n",
        "\n",
        "# Create features\n",
        "data = pd.DataFrame({\n",
        "    'price': prices,\n",
        "    'returns': returns,\n",
        "    'feature_1': np.random.randn(n_samples),  # Momentum indicator\n",
        "    'feature_2': np.random.randn(n_samples),  # Volatility indicator\n",
        "    'feature_3': np.random.randn(n_samples),  # Volume indicator\n",
        "    'target': (returns > 0).astype(int)  # Binary target: up/down\n",
        "}, index=dates)\n",
        "\n",
        "print(f'Data shape: {data.shape}')\n",
        "print(f'Date range: {data.index[0]} to {data.index[-1]}')\n",
        "data.head()"
      ]
    },
    {
      "cell_type": "code",
      "execution_count": null,
      "metadata": {},
      "outputs": [],
      "source": [
        "# Plot price and returns\n",
        "fig, (ax1, ax2) = plt.subplots(2, 1, figsize=(14, 8))\n",
        "\n",
        "ax1.plot(data.index, data['price'], linewidth=2)\n",
        "ax1.set_title('BTC-USD Price (Simulated)', fontsize=14, fontweight='bold')\n",
        "ax1.set_ylabel('Price ($)')\n",
        "ax1.grid(True, alpha=0.3)\n",
        "\n",
        "ax2.plot(data.index, data['returns'], linewidth=1, alpha=0.7)\n",
        "ax2.axhline(y=0, color='red', linestyle='--', alpha=0.5)\n",
        "ax2.set_title('Daily Returns', fontsize=14, fontweight='bold')\n",
        "ax2.set_ylabel('Returns')\n",
        "ax2.set_xlabel('Date')\n",
        "ax2.grid(True, alpha=0.3)\n",
        "\n",
        "plt.tight_layout()\n",
        "plt.show()"
      ]
    },
    {
      "cell_type": "markdown",
      "metadata": {},
      "source": [
        "## 2. Walk-Forward Validation\n",
        "\n",
        "Perform rolling window validation to test model robustness."
      ]
    },
    {
      "cell_type": "code",
      "execution_count": null,
      "metadata": {},
      "outputs": [],
      "source": [
        "# Configure walk-forward validation\n",
        "config = WalkForwardConfig(\n",
        "    train_window_days=90,  # 3 months training\n",
        "    test_window_days=30,   # 1 month testing\n",
        "    step_days=14,          # Step forward 2 weeks\n",
        "    min_train_samples=50,\n",
        "    refit_frequency=1      # Retrain every window\n",
        ")\n",
        "\n",
        "validator = WalkForwardValidator(config)\n",
        "\n",
        "print('✅ Validator configured')\n",
        "print(f'   Train window: {config.train_window_days} days')\n",
        "print(f'   Test window: {config.test_window_days} days')\n",
        "print(f'   Step size: {config.step_days} days')"
      ]
    },
    {
      "cell_type": "code",
      "execution_count": null,
      "metadata": {},
      "outputs": [],
      "source": [
        "# Define model and training functions\n",
        "from sklearn.ensemble import RandomForestClassifier\n",
        "from sklearn.metrics import accuracy_score, precision_score, recall_score, f1_score\n",
        "\n",
        "def model_factory():\n",
        "    \"\"\"Create new model instance\"\"\"\n",
        "    return RandomForestClassifier(\n",
        "        n_estimators=100,\n",
        "        max_depth=10,\n",
        "        random_state=42,\n",
        "        n_jobs=-1\n",
        "    )\n",
        "\n",
        "def train_fn(model, train_data):\n",
        "    \"\"\"Train model on data\"\"\"\n",
        "    X = train_data[['feature_1', 'feature_2', 'feature_3']]\n",
        "    y = train_data['target']\n",
        "    model.fit(X, y)\n",
        "    return model\n",
        "\n",
        "def predict_fn(model, test_data):\n",
        "    \"\"\"Make predictions\"\"\"\n",
        "    X = test_data[['feature_1', 'feature_2', 'feature_3']]\n",
        "    return model.predict(X)\n",
        "\n",
        "def metric_fn(predictions, actuals):\n",
        "    \"\"\"Calculate metrics\"\"\"\n",
        "    return {\n",
        "        'accuracy': accuracy_score(actuals, predictions),\n",
        "        'precision': precision_score(actuals, predictions, zero_division=0),\n",
        "        'recall': recall_score(actuals, predictions, zero_division=0),\n",
        "        'f1_score': f1_score(actuals, predictions, zero_division=0)\n",
        "    }\n",
        "\n",
        "print('✅ Model functions defined')"
      ]
    },
    {
      "cell_type": "code",
      "execution_count": null,
      "metadata": {},
      "outputs": [],
      "source": [
        "# Run walk-forward validation\n",
        "print('Running walk-forward validation...')\n",
        "print('This may take 1-2 minutes...\\n')\n",
        "\n",
        "results = validator.validate(\n",
        "    data=data,\n",
        "    model_factory=model_factory,\n",
        "    train_fn=train_fn,\n",
        "    predict_fn=predict_fn,\n",
        "    metric_fn=metric_fn,\n",
        "    expanding_window=False,  # Use fixed window\n",
        "    gap_days=1  # 1-day gap to prevent leakage\n",
        ")\n",
        "\n",
        "print(f'\\n✅ Validation complete: {len(results)} windows tested')"
      ]
    },
    {
      "cell_type": "code",
      "execution_count": null,
      "metadata": {},
      "outputs": [],
      "source": [
        "# Display aggregated metrics\n",
        "aggregated = validator.aggregate_metrics()\n",
        "\n",
        "print('=== Aggregated Test Metrics ===')\n",
        "for metric, value in aggregated.items():\n",
        "    print(f'{metric:25s}: {value:.4f}')"
      ]
    },
    {
      "cell_type": "code",
      "execution_count": null,
      "metadata": {},
      "outputs": [],
      "source": [
        "# Check for overfitting\n",
        "stability = validator.get_stability_score('accuracy')\n",
        "overfitting = validator.detect_overfitting(threshold=0.15)\n",
        "\n",
        "print(f'\\n📊 Model Stability Score: {stability:.3f} (higher is better)')\n",
        "print(f'🔍 Overfitting Detected: {overfitting}')\n",
        "\n",
        "if overfitting:\n",
        "    print('⚠️  WARNING: Model may be overfitting. Consider:')\n",
        "    print('   - Reducing model complexity')\n",
        "    print('   - Adding regularization')\n",
        "    print('   - Increasing training data')\n",
        "else:\n",
        "    print('✅ Model shows good generalization')"
      ]
    },
    {
      "cell_type": "markdown",
      "metadata": {},
      "source": [
        "## 3. Performance Metrics Calculation\n",
        "\n",
        "Calculate comprehensive trading metrics."
      ]
    },
    {
      "cell_type": "code",
      "execution_count": null,
      "metadata": {},
      "outputs": [],
      "source": [
        "# Generate trading signals from predictions\n",
        "# Aggregate all test predictions\n",
        "all_predictions = []\n",
        "all_dates = []\n",
        "\n",
        "for result in results:\n",
        "    for i, pred in enumerate(result.predictions):\n",
        "        date = result.test_start + timedelta(days=i)\n",
        "        all_dates.append(date)\n",
        "        all_predictions.append(pred)\n",
        "\n",
        "predictions_df = pd.DataFrame({\n",
        "    'date': all_dates,\n",
        "    'prediction': all_predictions\n",
        "}).set_index('date')\n",
        "\n",
        "# Merge with actual returns\n",
        "strategy_data = data[['returns']].join(predictions_df, how='inner')\n",
        "strategy_data['position'] = strategy_data['prediction'].shift(1)  # Trade on next day\n",
        "strategy_data['strategy_returns'] = strategy_data['position'] * strategy_data['returns']\n",
        "\n",
        "# Drop NaN\n",
        "strategy_data = strategy_data.dropna()\n",
        "\n",
        "print(f'Strategy data: {len(strategy_data)} days')\n",
        "strategy_data.head()"
      ]
    },
    {
      "cell_type": "code",
      "execution_count": null,
      "metadata": {},
      "outputs": [],
      "source": [
        "# Calculate performance metrics\n",
        "calc = TradingMetricsCalculator(risk_free_rate=0.02)\n",
        "\n",
        "# Buy & Hold metrics\n",
        "bh_metrics = calc.calculate_all_metrics(strategy_data['returns'])\n",
        "\n",
        "# Strategy metrics\n",
        "strategy_metrics = calc.calculate_all_metrics(strategy_data['strategy_returns'])\n",
        "\n",
        "# Compare\n",
        "comparison = pd.DataFrame({\n",
        "    'Buy & Hold': [\n",
        "        bh_metrics.total_return,\n",
        "        bh_metrics.annual_return,\n",
        "        bh_metrics.sharpe_ratio,\n",
        "        bh_metrics.sortino_ratio,\n",
        "        bh_metrics.max_drawdown\n",
        "    ],\n",
        "    'Strategy': [\n",
        "        strategy_metrics.total_return,\n",
        "        strategy_metrics.annual_return,\n",
        "        strategy_metrics.sharpe_ratio,\n",
        "        strategy_metrics.sortino_ratio,\n",
        "        strategy_metrics.max_drawdown\n",
        "    ]\n",
        "}, index=['Total Return', 'Annual Return', 'Sharpe Ratio', 'Sortino Ratio', 'Max Drawdown'])\n",
        "\n",
        "print('=== Performance Comparison ===')\n",
        "print(comparison)"
      ]
    },
    {
      "cell_type": "markdown",
      "metadata": {},
      "source": [
        "## 4. Visualization and Analysis"
      ]
    },
    {
      "cell_type": "code",
      "execution_count": null,
      "metadata": {},
      "outputs": [],
      "source": [
        "# Plot equity curves\n",
        "bh_equity = (1 + strategy_data['returns']).cumprod()\n",
        "strategy_equity = (1 + strategy_data['strategy_returns']).cumprod()\n",
        "\n",
        "fig, ax = plt.subplots(figsize=(14, 6))\n",
        "\n",
        "ax.plot(bh_equity.index, bh_equity, label='Buy & Hold', linewidth=2, alpha=0.8)\n",
        "ax.plot(strategy_equity.index, strategy_equity, label='Strategy', linewidth=2, alpha=0.8)\n",
        "\n",
        "ax.set_title('Equity Curve Comparison', fontsize=16, fontweight='bold')\n",
        "ax.set_xlabel('Date')\n",
        "ax.set_ylabel('Equity (Initial = 1.0)')\n",
        "ax.legend(fontsize=12)\n",
        "ax.grid(True, alpha=0.3)\n",
        "\n",
        "plt.tight_layout()\n",
        "plt.show()\n",
        "\n",
        "print(f'Final Buy & Hold Equity: {bh_equity.iloc[-1]:.3f}')\n",
        "print(f'Final Strategy Equity: {strategy_equity.iloc[-1]:.3f}')"
      ]
    },
    {
      "cell_type": "code",
      "execution_count": null,
      "metadata": {},
      "outputs": [],
      "source": [
        "# Plot walk-forward results\n",
        "validator.plot_results(metric_name='accuracy')"
      ]
    },
    {
      "cell_type": "code",
      "execution_count": null,
      "metadata": {},
      "outputs": [],
      "source": [
        "# Export results\n",
        "output_dir = '../../results/validation'\n",
        "os.makedirs(output_dir, exist_ok=True)\n",
        "\n",
        "validator.export_results(f'{output_dir}/walk_forward_results.csv')\n",
        "print(f'✅ Results exported to {output_dir}/walk_forward_results.csv')"
      ]
    },
    {
      "cell_type": "markdown",
      "metadata": {},
      "source": [
        "## 5. Conclusion\n",
        "\n",
        "This notebook demonstrated:\n",
        "- Walk-forward validation for robustness testing\n",
        "- Comprehensive trading metrics calculation\n",
        "- Overfitting detection\n",
        "- Performance visualization\n",
        "\n",
        "Use this framework to validate all trading models before deployment!"
      ]
    }
  ],
  "metadata": {
    "kernelspec": {
      "display_name": "Python 3",
      "language": "python",
      "name": "python3"
    },
    "language_info": {
      "codemirror_mode": {
        "name": "ipython",
        "version": 3
      },
      "file_extension": ".py",
      "mimetype": "text/x-python",
      "name": "python",
      "nbconvert_exporter": "python",
      "pygments_lexer": "ipython3",
      "version": "3.11.0"
    }
  },
  "nbformat": 4,
  "nbformat_minor": 4
}
